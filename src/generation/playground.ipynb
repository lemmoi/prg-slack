{
 "cells": [
  {
   "cell_type": "code",
   "execution_count": 90,
   "metadata": {},
   "outputs": [],
   "source": [
    "import torch\n",
    "import numpy as np\n",
    "from transformers import GPT2LMHeadModel, GPT2Tokenizer"
   ]
  },
  {
   "cell_type": "code",
   "execution_count": 61,
   "metadata": {},
   "outputs": [],
   "source": [
    "tokenizer = GPT2Tokenizer.from_pretrained(\"gpt2-xl\")"
   ]
  },
  {
   "cell_type": "code",
   "execution_count": 62,
   "metadata": {},
   "outputs": [],
   "source": [
    "model = GPT2LMHeadModel.from_pretrained(\"gpt2-xl\", pad_token_id=tokenizer.eos_token_id)"
   ]
  },
  {
   "cell_type": "code",
   "execution_count": 68,
   "metadata": {},
   "outputs": [],
   "source": [
    "rand_messages = []\n",
    "with open('rand_messages.txt', 'r') as f:\n",
    "    for line in f:\n",
    "        rand_messages.append(line)\n",
    "gen_messages = []\n",
    "with open('gen_messages.txt', 'r') as f:\n",
    "    for line in f:\n",
    "        gen_messages.append(line)"
   ]
  },
  {
   "cell_type": "code",
   "execution_count": 95,
   "metadata": {},
   "outputs": [
    {
     "data": {
      "text/plain": [
       "\"arushi: Or when you TA :P\\nkayla: Love the trump emoji \\npfaendtner: kayla logs onto slack just to tell us how she loves trump.  so weird\\nkayla: Hah. Very funny. \\npfaendtner: Need to find a day that Kayla, Arushi, Josh and Wes are all free for happy hour - want to take whole group out in appreciation of all the work you have done on grants and recruiting - but you guys did the heavy lifting for sure\\nslackbot: :beer: *slurp* *burp*\\nanotherjoshsmith: thanks, sounds great!\\npfaendtner: I could do tue next week\\nanotherjoshsmith: i think we need to update slackbot's response to :beers:\\nkayla: I can't, got choir on Tuesdays \\n\""
      ]
     },
     "execution_count": 95,
     "metadata": {},
     "output_type": "execute_result"
    }
   ],
   "source": [
    "start = np.random.randint(len(rand_messages)-10)\n",
    "stop = start+10\n",
    "''.join(rand_messages[start:stop])"
   ]
  },
  {
   "cell_type": "code",
   "execution_count": 96,
   "metadata": {},
   "outputs": [],
   "source": [
    "# input_ids = tokenizer.encode(\"[Scene: Central Perk, Ross, Chandler, and Phoebe are there. Joey is working.]\\nRoss: Hey, remember when I had a monkey?\\nChandler: Yeah.\\nRoss: Yeah, what, what was I thinking?\",\n",
    "#                              return_tensors='pt')\n",
    "# input_ids = tokenizer.encode(\"The special problem we tried to get at with these lectures was to maintain the interest of the very enthusiastic and rather smart students coming out of the high schools and into Caltech. They have heard a lot about how interesting and exciting physics is—the theory of relativity, quantum mechanics, and other modern ideas. By the end of two years of our previous course, many would be very discouraged because there were really very few grand, new, modern ideas presented to them. They were made to study inclined planes, electrostatics, and so forth, and after two years it was quite stultifying. The problem was whether or not we could make a course which would save the more advanced and excited student by maintaining his enthusiasm.\",\n",
    "#                              return_tensors='pt')\n",
    "# input_ids = tokenizer.encode(\"I have a friend who's an artist and has sometimes taken a view which I don't agree with very well. He'll hold up a flower and say 'look how beautiful it is', and I'll agree. Then he says 'I as an artist can see how beautiful this is but you as a scientist take this all apart and it becomes a dull thing', and I think that he's kind of nutty. First of all, the beauty that he sees is available to other people and to me too, I believe. Although I may not be quite as refined aesthetically as he is ... I can appreciate the beauty of a flower. At the same time, I see much more about the flower than he sees. I could imagine the cells in there, the complicated actions inside, which also have a beauty.\",\n",
    "#                              return_tensors='pt')\n",
    "input_ids = tokenizer.encode(''.join(rand_messages[start:stop]),\n",
    "                             return_tensors='pt')"
   ]
  },
  {
   "cell_type": "code",
   "execution_count": 97,
   "metadata": {},
   "outputs": [],
   "source": [
    "sample_outputs = model.generate(\n",
    "                    input_ids,\n",
    "                    do_sample=True,\n",
    "                    max_length=500,\n",
    "                    top_k=75,\n",
    "                    top_p=0.95,\n",
    "                    num_return_sequences=5\n",
    "                    )"
   ]
  },
  {
   "cell_type": "code",
   "execution_count": 98,
   "metadata": {
    "scrolled": false
   },
   "outputs": [
    {
     "name": "stdout",
     "output_type": "stream",
     "text": [
      "Output:\n",
      "----------------------------------------------------------------------------------------------------\n",
      "0: arushi: Or when you TA :P\n",
      "kayla: Love the trump emoji \n",
      "pfaendtner: kayla logs onto slack just to tell us how she loves trump.  so weird\n",
      "kayla: Hah. Very funny. \n",
      "pfaendtner: Need to find a day that Kayla, Arushi, Josh and Wes are all free for happy hour - want to take whole group out in appreciation of all the work you have done on grants and recruiting - but you guys did the heavy lifting for sure\n",
      "slackbot: :beer: *slurp* *burp*\n",
      "anotherjoshsmith: thanks, sounds great!\n",
      "pfaendtner: I could do tue next week\n",
      "anotherjoshsmith: i think we need to update slackbot's response to :beers:\n",
      "kayla: I can't, got choir on Tuesdays \n",
      "pfaendtner: Have it set up as an admin group so if one of us has a busy day they will just say, 'I'm so sorry', so if one person is really busy we can just say 'we just got into a really big fight with my boss', and it will be OK\n",
      "kayla: I can't. It's on Tuesday.\n",
      "slackbot: :dog: :dog: :dog:\n",
      "slackbot: :beers: :beers: :beers: :beers:\n",
      "sherylstalker: :beers:\n",
      "london_josh: Thanks for helping :) And thanks to our guests, Kayla and Arushi. Your work has made a big difference.\n",
      "slackbot: :beers: :beers: :beers: :beers:\n",
      "slackbot: :beer: :beer: :beer:\n",
      "slackbot: :beers: :beers: :beers: :beers:\n",
      "sherylstalker: :)\n",
      "london_josh: You guys keep on keepin' us entertained and having fun with all the funny comments!\n",
      "pfaendtner: Thanks :)\n",
      "I have some research to do for a paper I'm working on so if there's anyone out there that's knowledgeable on the internets about research papers, I'd love to chat. If I can't get in touch with you directly, I'll just have a message for you via @j\n",
      "\n",
      "\n",
      "1: arushi: Or when you TA :P\n",
      "kayla: Love the trump emoji \n",
      "pfaendtner: kayla logs onto slack just to tell us how she loves trump.  so weird\n",
      "kayla: Hah. Very funny. \n",
      "pfaendtner: Need to find a day that Kayla, Arushi, Josh and Wes are all free for happy hour - want to take whole group out in appreciation of all the work you have done on grants and recruiting - but you guys did the heavy lifting for sure\n",
      "slackbot: :beer: *slurp* *burp*\n",
      "anotherjoshsmith: thanks, sounds great!\n",
      "pfaendtner: I could do tue next week\n",
      "anotherjoshsmith: i think we need to update slackbot's response to :beers:\n",
      "kayla: I can't, got choir on Tuesdays \n",
      "anotherjoshsmith: the time would be best spent on :the art\n",
      "anotherjoshsmith: :the science of a healthy lunch*\n",
      "anotherjoshsmith: :pierogies, that is\n",
      "jakobu_kazuya: That's a good idea. :)\n",
      "jakobu_kazuya: Also, as a follow up, do the people who volunteer for your job postings, posts like these and all others where you give more info, have anything on your minds for next years fundraiser?   That way they wouldn't have to keep their mouths shut.\n",
      "pfaendtner: I'm not looking to be a charity spokesman any time soon. \n",
      "Kayla: Ok, I'll keep my mouth shut! ;) \n",
      "anotherjoshsmith: the key is to take care of the rest of the world first! ;)\n",
      "slackbot: Can we get some green on the table?\n",
      "Jakobu_Kazuya: I'm not a spokesperson for any charity, but I do a lot for the city through my donations and grants, and I'd love to give back some of my bounty ;)\n",
      "PattiMannz: lol yes, this is going to be great fun\n",
      "jakobu_kazuya: Ok.  I'll see you all soon :) \n",
      "slackbot: PFAendtner: the key is to take care of the rest of the world first! :)\n",
      "slackbot\n",
      "\n",
      "\n",
      "2: arushi: Or when you TA :P\n",
      "kayla: Love the trump emoji \n",
      "pfaendtner: kayla logs onto slack just to tell us how she loves trump.  so weird\n",
      "kayla: Hah. Very funny. \n",
      "pfaendtner: Need to find a day that Kayla, Arushi, Josh and Wes are all free for happy hour - want to take whole group out in appreciation of all the work you have done on grants and recruiting - but you guys did the heavy lifting for sure\n",
      "slackbot: :beer: *slurp* *burp*\n",
      "anotherjoshsmith: thanks, sounds great!\n",
      "pfaendtner: I could do tue next week\n",
      "anotherjoshsmith: i think we need to update slackbot's response to :beers:\n",
      "kayla: I can't, got choir on Tuesdays \n",
      "anotherjoshsmith: i can do saturday\n",
      "pfaendtner: We should do happy hour on saturday for all the players in league and let slackbot know that all the players are celebrating and will see you guys.\n",
      "slackbot: :beer: *slurp* *burp*\n",
      "anotherjoshsmith: will definitely check back! *pokes bot*\n",
      "slackbot: :beer: *slurp* *burp*\n",
      "pfaendtner: All done! Thank you all so much. :D\n",
      "pfaendtner: I feel a little weird writing this email to the world after the last one. \n",
      "kylewalsh: I'm going to use the \"my life's work was to help bring you people together\" argument here\n",
      "slackbot: :beers: *slurp* *burp*\n",
      "anotherjoshsmith: what were you thinking?\n",
      "pfaendtner: It's kind of like all this effort in the first place?\n",
      "kayla: What's this about my life's work? \n",
      "Kayla: You are a god\n",
      "Kayla: I'm the first person in eons\n",
      "pfaendtner: But it's so rare to see people in their twenties or thirties get their first big raise at company. \n",
      "pfaendtner: So I feel bad for you guys. \n",
      "slackbot: :beer: *slurp* *\n",
      "\n",
      "\n",
      "3: arushi: Or when you TA :P\n",
      "kayla: Love the trump emoji \n",
      "pfaendtner: kayla logs onto slack just to tell us how she loves trump.  so weird\n",
      "kayla: Hah. Very funny. \n",
      "pfaendtner: Need to find a day that Kayla, Arushi, Josh and Wes are all free for happy hour - want to take whole group out in appreciation of all the work you have done on grants and recruiting - but you guys did the heavy lifting for sure\n",
      "slackbot: :beer: *slurp* *burp*\n",
      "anotherjoshsmith: thanks, sounds great!\n",
      "pfaendtner: I could do tue next week\n",
      "anotherjoshsmith: i think we need to update slackbot's response to :beers:\n",
      "kayla: I can't, got choir on Tuesdays \n",
      "anotherjoshsmith: but there's always fri and saturday\n",
      "anotherjoshsmith: but only about 2 of the 6 of us are free on the thurs and saturday\n",
      "slackbot: You can join #funforgrants on Slack  to get help with grant proposals or make your own\n",
      "anotherjoshsmith: you can always get another sponsor/partner through me\n",
      "anotherjoshsmith: or else you're asking us to help out at the beginning and end of every year\n",
      "pfaendtner: Yeah, but you've already given us an awesome, diverse group of members \n",
      "slackbot: Do you have a calendar in your work/home/university folder to show a set of meetings and deadlines?\n",
      "kayla: Definitely not!\n",
      "Kayla: :/\n",
      "Kayla: :'(\n",
      "slackbot: Do you want to show your calendar on Slack?\n",
      "kayla: :p\n",
      "slackbot: Please see this page. We've also written an article ( here ) on how to handle deadlines/events in your group.\n",
      "Patti: Ok cool. I can add it to our calendar after the meeting\n",
      "Patti: Good!  Let me make sure I do that\n",
      "Kayla: Ok, can you give me a call when you get this out?  I'll walk you through the process\n",
      "Patti: Ok, I'll call you right back\n",
      " Kayla: I'll be ready by 5\n",
      "Kayla:\n",
      "\n",
      "\n",
      "4: arushi: Or when you TA :P\n",
      "kayla: Love the trump emoji \n",
      "pfaendtner: kayla logs onto slack just to tell us how she loves trump.  so weird\n",
      "kayla: Hah. Very funny. \n",
      "pfaendtner: Need to find a day that Kayla, Arushi, Josh and Wes are all free for happy hour - want to take whole group out in appreciation of all the work you have done on grants and recruiting - but you guys did the heavy lifting for sure\n",
      "slackbot: :beer: *slurp* *burp*\n",
      "anotherjoshsmith: thanks, sounds great!\n",
      "pfaendtner: I could do tue next week\n",
      "anotherjoshsmith: i think we need to update slackbot's response to :beers:\n",
      "kayla: I can't, got choir on Tuesdays \n",
      "slackbot: :beers:\n",
      "anotherjoshsmith: so just a heads up there for your own benefit\n",
      "pfaendtner: Alright. \n",
      "anotherjoshsmith: then Tuesday should be super fun\n",
      "slackbot: :beers:\n",
      "anotherjoshsmith:  and so it goes\n",
      "kayla: It's Friday already\n",
      "anotherjoshsmith: that makes me think you should invite the whole group \n",
      "pfaendtner: I'd rather invite the whole group if I can, I'd rather not do singles\n",
      "anotherjoshsmith: so it should be fine, but I'm free most of the week\n",
      "slackbot: :beers:\n",
      "pfaendtner: That'll be fine. \n",
      "anotherjoshsmith: :beer:\n",
      "kayla: Yeah. :) I think Wednesdays or maybe Thursdays would be great\n",
      "anotherjoshsmith: we'd rather not be on on Wednesdays\n",
      "kayla: Ok. I'll leave that up to you guys\n",
      "pfaendtner: If we don't, I have the rest of the week to see how I want to make up for it. I'm always doing something.  I haven't told you what yet, but I haven't been on for a while.\n",
      "pfaendtner: No kidding\n",
      "anotherjoshsmith: I don't know how to do that though :(\n",
      "pfaendtner: Probably be better if we just tell\n",
      "\n",
      "\n"
     ]
    }
   ],
   "source": [
    "print(\"Output:\\n\" + 100 * '-')\n",
    "for i, sample_output in enumerate(sample_outputs):\n",
    "    print(\"{}: {}\".format(i, tokenizer.decode(sample_output,\n",
    "                                              skip_special_tokens=True)))\n",
    "    print('\\n')"
   ]
  },
  {
   "cell_type": "code",
   "execution_count": null,
   "metadata": {},
   "outputs": [],
   "source": []
  },
  {
   "cell_type": "markdown",
   "metadata": {},
   "source": [
    "### Slack Dataset"
   ]
  },
  {
   "cell_type": "code",
   "execution_count": 1,
   "metadata": {},
   "outputs": [],
   "source": [
    "import sqlite3"
   ]
  },
  {
   "cell_type": "code",
   "execution_count": 22,
   "metadata": {},
   "outputs": [],
   "source": [
    "conn = sqlite3.connect('prg_msg.db')\n",
    "c = conn.cursor()\n",
    "tables = ['users', 'rand_messages', 'gen_messages']\n",
    "table_cols = []\n",
    "data = []\n",
    "for table in tables:\n",
    "    c.execute(\"select * from %s where 1=0;\" % table)\n",
    "    table_cols = [d[0] for d in c.description]\n",
    "    select_str = ''\n",
    "    for col in table_cols:\n",
    "        select_str += '{}, '.format(col)\n",
    "    select_str = select_str[:-2]\n",
    "    c.execute(\"select {} from {}\".format(select_str, table))\n",
    "    data.append(c.fetchall())"
   ]
  },
  {
   "cell_type": "code",
   "execution_count": 66,
   "metadata": {},
   "outputs": [],
   "source": [
    "users = data[0]\n",
    "rand_messages = data[1]\n",
    "gen_messages = data[2]"
   ]
  },
  {
   "cell_type": "code",
   "execution_count": 25,
   "metadata": {},
   "outputs": [],
   "source": [
    "users_dict = {}\n",
    "for user in users:\n",
    "    users_dict[user[0]] = user[1]"
   ]
  },
  {
   "cell_type": "code",
   "execution_count": 55,
   "metadata": {},
   "outputs": [],
   "source": [
    "def decode_message(msg, user_dict):\n",
    "    user = user_dict[msg[1]]\n",
    "    msg_text = msg[2]\n",
    "    if msg_text == '':\n",
    "        msg_text = '<missing_message>'\n",
    "    msg_out = '{}: {}'.format(user, msg_text)\n",
    "    return msg_out"
   ]
  },
  {
   "cell_type": "code",
   "execution_count": 67,
   "metadata": {},
   "outputs": [],
   "source": [
    "with open('rand_messages.txt', 'w') as f:\n",
    "    for msg in reversed(rand_messages):\n",
    "        f.write('{}\\n'.format(decode_message(msg, users_dict)))\n",
    "\n",
    "with open('gen_messages.txt', 'w') as f:\n",
    "    for msg in reversed(gen_messages):\n",
    "        f.write('{}\\n'.format(decode_message(msg, users_dict)))"
   ]
  },
  {
   "cell_type": "code",
   "execution_count": 58,
   "metadata": {},
   "outputs": [
    {
     "data": {
      "text/plain": [
       "(7297, 5498)"
      ]
     },
     "execution_count": 58,
     "metadata": {},
     "output_type": "execute_result"
    }
   ],
   "source": [
    "len(rand_messages), len(gen_messages)"
   ]
  },
  {
   "cell_type": "code",
   "execution_count": null,
   "metadata": {},
   "outputs": [],
   "source": []
  }
 ],
 "metadata": {
  "kernelspec": {
   "display_name": "nlp",
   "language": "python",
   "name": "nlp"
  },
  "language_info": {
   "codemirror_mode": {
    "name": "ipython",
    "version": 3
   },
   "file_extension": ".py",
   "mimetype": "text/x-python",
   "name": "python",
   "nbconvert_exporter": "python",
   "pygments_lexer": "ipython3",
   "version": "3.8.5"
  }
 },
 "nbformat": 4,
 "nbformat_minor": 4
}
